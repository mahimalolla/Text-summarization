{
  "nbformat": 4,
  "nbformat_minor": 0,
  "metadata": {
    "colab": {
      "name": "Text summarization.ipynb",
      "provenance": []
    },
    "kernelspec": {
      "name": "python3",
      "display_name": "Python 3"
    },
    "language_info": {
      "name": "python"
    }
  },
  "cells": [
    {
      "cell_type": "markdown",
      "source": [
        "\n",
        "\n",
        "---\n",
        "\n",
        "\n",
        "\n",
        "> Text summarization \n",
        "\n"
      ],
      "metadata": {
        "id": "2Z9Ct6xic9AP"
      }
    },
    {
      "cell_type": "code",
      "execution_count": 1,
      "metadata": {
        "id": "nQkCbaTocwL3"
      },
      "outputs": [],
      "source": [
        "# import the gensim module and summarize function\n",
        "from gensim.summarization.summarizer import summarize \n"
      ]
    },
    {
      "cell_type": "code",
      "source": [
        "# Paragraph\n",
        "paragraph = \"Natural language processing (NLP) is the ability of a computer program to understand human language as it is spoken. NLP is a component of artificial intelligence (AI). The development of NLP applications is challenging because computers traditionally require humans to 'speak' to them in a programming language that is precise, unambiguous and highly structured, or through a limited number of clearly enunciated voice commands. Human speech, however, is not always precise -- it is often ambiguous and the linguistic structure can depend on many complex variables, including slang, regional dialects and social context.\"\n",
        "\n"
      ],
      "metadata": {
        "id": "pacZNw3HcyLs"
      },
      "execution_count": 2,
      "outputs": []
    },
    {
      "cell_type": "code",
      "source": [
        "# Get the Summary of the text based on percentage (0.5% of the original content). \n",
        "summ_per = summarize(paragraph, ratio = 0.4) \n",
        "print(\"Percent summary:\") \n",
        "print(summ_per) \n",
        "\n"
      ],
      "metadata": {
        "colab": {
          "base_uri": "https://localhost:8080/"
        },
        "id": "hB8thJ21c0eB",
        "outputId": "b8b21ff6-13ad-4e11-dfa2-827bcb7e5908"
      },
      "execution_count": 3,
      "outputs": [
        {
          "output_type": "stream",
          "name": "stdout",
          "text": [
            "Percent summary:\n",
            "Natural language processing (NLP) is the ability of a computer program to understand human language as it is spoken.\n"
          ]
        }
      ]
    },
    {
      "cell_type": "code",
      "source": [
        "# Get the summary of the text based on number of words (50 words) \n",
        "summ_words = summarize(paragraph, word_count = 50) \n",
        "print(\"\\n\")\n",
        "print(\"Word count summary:\") \n",
        "print(summ_words) "
      ],
      "metadata": {
        "colab": {
          "base_uri": "https://localhost:8080/"
        },
        "id": "Ryv_f0ufc2Jq",
        "outputId": "2b2b75b2-f5b2-4a6a-9740-3dd8f45916c9"
      },
      "execution_count": 5,
      "outputs": [
        {
          "output_type": "stream",
          "name": "stdout",
          "text": [
            "\n",
            "\n",
            "Word count summary:\n",
            "Natural language processing (NLP) is the ability of a computer program to understand human language as it is spoken.\n",
            "The development of NLP applications is challenging because computers traditionally require humans to 'speak' to them in a programming language that is precise, unambiguous and highly structured, or through a limited number of clearly enunciated voice commands.\n"
          ]
        }
      ]
    }
  ]
}